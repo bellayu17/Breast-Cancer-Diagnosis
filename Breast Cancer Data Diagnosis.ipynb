{
 "cells": [
  {
   "cell_type": "code",
   "execution_count": 0,
   "metadata": {
    "application/vnd.databricks.v1+cell": {
     "cellMetadata": {
      "byteLimit": 2048000,
      "rowLimit": 10000
     },
     "inputWidgets": {},
     "nuid": "2819debf-d4f9-4e86-9850-68958d3a05f3",
     "showTitle": false,
     "title": ""
    }
   },
   "outputs": [],
   "source": [
    "import torch\n",
    "import tensorflow as tf\n",
    "from tensorflow.keras.models import Sequential\n",
    "from tensorflow.keras.layers import Conv2D, MaxPooling2D, Dense, Activation,Flatten, Dropout\n",
    "from tensorflow.keras.optimizers import Adam\n",
    "from tensorflow.keras.metrics import binary_crossentropy"
   ]
  },
  {
   "cell_type": "code",
   "execution_count": 0,
   "metadata": {
    "application/vnd.databricks.v1+cell": {
     "cellMetadata": {
      "byteLimit": 2048000,
      "rowLimit": 10000
     },
     "inputWidgets": {},
     "nuid": "da6ad7de-adba-411e-9fe6-6facc5f98c2d",
     "showTitle": false,
     "title": ""
    }
   },
   "outputs": [],
   "source": [
    "import numpy as np\n",
    "from matplotlib import pyplot as plt\n",
    "import pandas as pd\n",
    "import seaborn as sns"
   ]
  },
  {
   "cell_type": "code",
   "execution_count": 0,
   "metadata": {
    "application/vnd.databricks.v1+cell": {
     "cellMetadata": {
      "byteLimit": 2048000,
      "rowLimit": 10000
     },
     "inputWidgets": {},
     "nuid": "20dd6bcf-1bcd-41be-a020-21f9ecbcb617",
     "showTitle": false,
     "title": ""
    }
   },
   "outputs": [
    {
     "output_type": "stream",
     "name": "stdout",
     "output_type": "stream",
     "text": [
      "GPU: 0\n"
     ]
    }
   ],
   "source": [
    "devices = tf.config.experimental.list_physical_devices('GPU')\n",
    "print(\"GPU:\", len(devices))"
   ]
  },
  {
   "cell_type": "code",
   "execution_count": 0,
   "metadata": {
    "application/vnd.databricks.v1+cell": {
     "cellMetadata": {
      "byteLimit": 2048000,
      "rowLimit": 10000
     },
     "inputWidgets": {},
     "nuid": "e4bed551-6669-4750-8569-7e9a7386cee0",
     "showTitle": false,
     "title": ""
    }
   },
   "outputs": [],
   "source": [
    "from timeit import default_timer as timer\n",
    "def print_train_time(start: float,\n",
    "                     end: float,\n",
    "                     device: torch.device = None):\n",
    "  total_time = end - start\n",
    "  print(f\"Train time on {device}: {total_time:.3f} seconds\")\n",
    "  return total_time"
   ]
  },
  {
   "cell_type": "code",
   "execution_count": 0,
   "metadata": {
    "application/vnd.databricks.v1+cell": {
     "cellMetadata": {
      "byteLimit": 2048000,
      "rowLimit": 10000
     },
     "inputWidgets": {},
     "nuid": "7e3012aa-012b-4c3b-85b2-5e7999a50b8b",
     "showTitle": false,
     "title": ""
    }
   },
   "outputs": [],
   "source": [
    "df = pd.read_csv(\"/Workspace/Users/bellayu1600@gmail.com/data.csv\")"
   ]
  },
  {
   "cell_type": "code",
   "execution_count": 0,
   "metadata": {
    "application/vnd.databricks.v1+cell": {
     "cellMetadata": {
      "byteLimit": 2048000,
      "rowLimit": 10000
     },
     "inputWidgets": {},
     "nuid": "e2a7156f-98a2-47df-8ce1-bb107da113dd",
     "showTitle": false,
     "title": ""
    }
   },
   "outputs": [
    {
     "output_type": "stream",
     "name": "stdout",
     "output_type": "stream",
     "text": [
      "                         count          mean  ...           75%           max\nid                       569.0  3.037183e+07  ...  8.813129e+06  9.113205e+08\nradius_mean              569.0  1.412729e+01  ...  1.578000e+01  2.811000e+01\ntexture_mean             569.0  1.928965e+01  ...  2.180000e+01  3.928000e+01\nperimeter_mean           569.0  9.196903e+01  ...  1.041000e+02  1.885000e+02\narea_mean                569.0  6.548891e+02  ...  7.827000e+02  2.501000e+03\nsmoothness_mean          569.0  9.636028e-02  ...  1.053000e-01  1.634000e-01\ncompactness_mean         569.0  1.043410e-01  ...  1.304000e-01  3.454000e-01\nconcavity_mean           569.0  8.879932e-02  ...  1.307000e-01  4.268000e-01\nconcave_points_mean      569.0  4.891915e-02  ...  7.400000e-02  2.012000e-01\nsymmetry_mean            569.0  1.811619e-01  ...  1.957000e-01  3.040000e-01\nfractal_dimension_mean   569.0  6.279761e-02  ...  6.612000e-02  9.744000e-02\nradius_se                569.0  4.051721e-01  ...  4.789000e-01  2.873000e+00\ntexture_se               569.0  1.216853e+00  ...  1.474000e+00  4.885000e+00\nperimeter_se             569.0  2.866059e+00  ...  3.357000e+00  2.198000e+01\narea_se                  569.0  4.033708e+01  ...  4.519000e+01  5.422000e+02\nsmoothness_se            569.0  7.040979e-03  ...  8.146000e-03  3.113000e-02\ncompactness_se           569.0  2.547814e-02  ...  3.245000e-02  1.354000e-01\nconcavity_se             569.0  3.189372e-02  ...  4.205000e-02  3.960000e-01\nconcave_points_se        569.0  1.179614e-02  ...  1.471000e-02  5.279000e-02\nsymmetry_se              569.0  2.054230e-02  ...  2.348000e-02  7.895000e-02\nfractal_dimension_se     569.0  3.794904e-03  ...  4.558000e-03  2.984000e-02\nradius_worst             569.0  1.626919e+01  ...  1.879000e+01  3.604000e+01\ntexture_worst            569.0  2.567722e+01  ...  2.972000e+01  4.954000e+01\nperimeter_worst          569.0  1.072612e+02  ...  1.254000e+02  2.512000e+02\narea_worst               569.0  8.805831e+02  ...  1.084000e+03  4.254000e+03\nsmoothness_worst         569.0  1.323686e-01  ...  1.460000e-01  2.226000e-01\ncompactness_worst        569.0  2.542650e-01  ...  3.391000e-01  1.058000e+00\nconcavity_worst          569.0  2.721885e-01  ...  3.829000e-01  1.252000e+00\nconcave_points_worst     569.0  1.146062e-01  ...  1.614000e-01  2.910000e-01\nsymmetry_worst           569.0  2.900756e-01  ...  3.179000e-01  6.638000e-01\nfractal_dimension_worst  569.0  8.394582e-02  ...  9.208000e-02  2.075000e-01\n\n[31 rows x 8 columns]\n"
     ]
    }
   ],
   "source": [
    "print(df.describe().T)"
   ]
  },
  {
   "cell_type": "code",
   "execution_count": 0,
   "metadata": {
    "application/vnd.databricks.v1+cell": {
     "cellMetadata": {
      "byteLimit": 2048000,
      "rowLimit": 10000
     },
     "inputWidgets": {},
     "nuid": "e85d5161-1098-411b-b0b8-bbaf4c3795fb",
     "showTitle": false,
     "title": ""
    }
   },
   "outputs": [
    {
     "output_type": "stream",
     "name": "stdout",
     "output_type": "stream",
     "text": [
      "id                         0\ndiagnosis                  0\nradius_mean                0\ntexture_mean               0\nperimeter_mean             0\narea_mean                  0\nsmoothness_mean            0\ncompactness_mean           0\nconcavity_mean             0\nconcave_points_mean        0\nsymmetry_mean              0\nfractal_dimension_mean     0\nradius_se                  0\ntexture_se                 0\nperimeter_se               0\narea_se                    0\nsmoothness_se              0\ncompactness_se             0\nconcavity_se               0\nconcave_points_se          0\nsymmetry_se                0\nfractal_dimension_se       0\nradius_worst               0\ntexture_worst              0\nperimeter_worst            0\narea_worst                 0\nsmoothness_worst           0\ncompactness_worst          0\nconcavity_worst            0\nconcave_points_worst       0\nsymmetry_worst             0\nfractal_dimension_worst    0\ndtype: int64\n"
     ]
    }
   ],
   "source": [
    "print(df.isnull().sum())"
   ]
  },
  {
   "cell_type": "code",
   "execution_count": 0,
   "metadata": {
    "application/vnd.databricks.v1+cell": {
     "cellMetadata": {
      "byteLimit": 2048000,
      "rowLimit": 10000
     },
     "inputWidgets": {},
     "nuid": "23c96065-94a5-44e8-bba5-d1d5cdbac657",
     "showTitle": false,
     "title": ""
    }
   },
   "outputs": [
    {
     "output_type": "stream",
     "name": "stdout",
     "output_type": "stream",
     "text": [
      "id                           int64\nlabel                       object\nradius_mean                float64\ntexture_mean               float64\nperimeter_mean             float64\narea_mean                  float64\nsmoothness_mean            float64\ncompactness_mean           float64\nconcavity_mean             float64\nconcave_points_mean        float64\nsymmetry_mean              float64\nfractal_dimension_mean     float64\nradius_se                  float64\ntexture_se                 float64\nperimeter_se               float64\narea_se                    float64\nsmoothness_se              float64\ncompactness_se             float64\nconcavity_se               float64\nconcave_points_se          float64\nsymmetry_se                float64\nfractal_dimension_se       float64\nradius_worst               float64\ntexture_worst              float64\nperimeter_worst            float64\narea_worst                 float64\nsmoothness_worst           float64\ncompactness_worst          float64\nconcavity_worst            float64\nconcave_points_worst       float64\nsymmetry_worst             float64\nfractal_dimension_worst    float64\ndtype: object\n"
     ]
    }
   ],
   "source": [
    "df = df.rename(columns={'diagnosis':'label'})\n",
    "print(df.dtypes)"
   ]
  },
  {
   "cell_type": "code",
   "execution_count": 0,
   "metadata": {
    "application/vnd.databricks.v1+cell": {
     "cellMetadata": {
      "byteLimit": 2048000,
      "rowLimit": 10000
     },
     "inputWidgets": {},
     "nuid": "ef40f44b-a569-4d27-9ff6-b057fd2f399d",
     "showTitle": false,
     "title": ""
    }
   },
   "outputs": [
    {
     "output_type": "stream",
     "name": "stdout",
     "output_type": "stream",
     "text": [
      "Prior labels:  ['B' 'M']\nChanged labels:  [0 1]\n"
     ]
    }
   ],
   "source": [
    "from sklearn.preprocessing import LabelEncoder\n",
    "labelencoder = LabelEncoder()\n",
    "\n",
    "# Convert M (maligant) and B (benign) to 1 and 0\n",
    "before = df[\"label\"].values\n",
    "print(\"Prior labels: \", np.unique(before))\n",
    "after = labelencoder.fit_transform(before)\n",
    "print(\"Changed labels: \", np.unique(after))"
   ]
  },
  {
   "cell_type": "code",
   "execution_count": 0,
   "metadata": {
    "application/vnd.databricks.v1+cell": {
     "cellMetadata": {
      "byteLimit": 2048000,
      "rowLimit": 10000
     },
     "inputWidgets": {},
     "nuid": "fd305ce4-3c84-48db-955d-252b9cb90f77",
     "showTitle": false,
     "title": ""
    }
   },
   "outputs": [
    {
     "output_type": "stream",
     "name": "stdout",
     "output_type": "stream",
     "text": [
      "                         count        mean  ...          75%         max\nradius_mean              569.0   14.127292  ...    15.780000    28.11000\ntexture_mean             569.0   19.289649  ...    21.800000    39.28000\nperimeter_mean           569.0   91.969033  ...   104.100000   188.50000\narea_mean                569.0  654.889104  ...   782.700000  2501.00000\nsmoothness_mean          569.0    0.096360  ...     0.105300     0.16340\ncompactness_mean         569.0    0.104341  ...     0.130400     0.34540\nconcavity_mean           569.0    0.088799  ...     0.130700     0.42680\nconcave_points_mean      569.0    0.048919  ...     0.074000     0.20120\nsymmetry_mean            569.0    0.181162  ...     0.195700     0.30400\nfractal_dimension_mean   569.0    0.062798  ...     0.066120     0.09744\nradius_se                569.0    0.405172  ...     0.478900     2.87300\ntexture_se               569.0    1.216853  ...     1.474000     4.88500\nperimeter_se             569.0    2.866059  ...     3.357000    21.98000\narea_se                  569.0   40.337079  ...    45.190000   542.20000\nsmoothness_se            569.0    0.007041  ...     0.008146     0.03113\ncompactness_se           569.0    0.025478  ...     0.032450     0.13540\nconcavity_se             569.0    0.031894  ...     0.042050     0.39600\nconcave_points_se        569.0    0.011796  ...     0.014710     0.05279\nsymmetry_se              569.0    0.020542  ...     0.023480     0.07895\nfractal_dimension_se     569.0    0.003795  ...     0.004558     0.02984\nradius_worst             569.0   16.269190  ...    18.790000    36.04000\ntexture_worst            569.0   25.677223  ...    29.720000    49.54000\nperimeter_worst          569.0  107.261213  ...   125.400000   251.20000\narea_worst               569.0  880.583128  ...  1084.000000  4254.00000\nsmoothness_worst         569.0    0.132369  ...     0.146000     0.22260\ncompactness_worst        569.0    0.254265  ...     0.339100     1.05800\nconcavity_worst          569.0    0.272188  ...     0.382900     1.25200\nconcave_points_worst     569.0    0.114606  ...     0.161400     0.29100\nsymmetry_worst           569.0    0.290076  ...     0.317900     0.66380\nfractal_dimension_worst  569.0    0.083946  ...     0.092080     0.20750\n\n[30 rows x 8 columns]\n"
     ]
    }
   ],
   "source": [
    "# Scale data\n",
    "X = df.drop(labels = [\"label\", \"id\"], axis=1) \n",
    "print(X.describe().T)"
   ]
  },
  {
   "cell_type": "code",
   "execution_count": 0,
   "metadata": {
    "application/vnd.databricks.v1+cell": {
     "cellMetadata": {
      "byteLimit": 2048000,
      "rowLimit": 10000
     },
     "inputWidgets": {},
     "nuid": "849d91ce-1e61-41a7-9847-ddd97df69a9d",
     "showTitle": false,
     "title": ""
    }
   },
   "outputs": [
    {
     "output_type": "stream",
     "name": "stdout",
     "output_type": "stream",
     "text": [
      "Train data shape:  (455, 30)\nTest data shape:  (114, 30)\n"
     ]
    }
   ],
   "source": [
    "MANUAL_SEED = 42\n",
    "\n",
    "from sklearn.model_selection import train_test_split\n",
    "X_train, X_test, y_train, y_test = train_test_split(X, Y, test_size=0.2, random_state=MANUAL_SEED)\n",
    "print(\"Train data shape: \", X_train.shape)\n",
    "print(\"Test data shape: \", X_test.shape)"
   ]
  },
  {
   "cell_type": "code",
   "execution_count": 0,
   "metadata": {
    "application/vnd.databricks.v1+cell": {
     "cellMetadata": {
      "byteLimit": 2048000,
      "rowLimit": 10000
     },
     "inputWidgets": {},
     "nuid": "6c8bd8ed-9061-4f73-a8f2-d6107ffe12f6",
     "showTitle": false,
     "title": ""
    }
   },
   "outputs": [],
   "source": [
    "time_start = timer()\n",
    "model_0 = Sequential([\n",
    "    Dense(units=16, input_dim=30, activation='relu'), \n",
    "    Dense(units=32, activation='relu'),\n",
    "    Dense(units=64, activation='relu'),\n",
    "    Dropout(0.2),\n",
    "    Dense(units=1, activation='sigmoid')\n",
    "])"
   ]
  },
  {
   "cell_type": "code",
   "execution_count": 0,
   "metadata": {
    "application/vnd.databricks.v1+cell": {
     "cellMetadata": {
      "byteLimit": 2048000,
      "rowLimit": 10000
     },
     "inputWidgets": {},
     "nuid": "d40f1eff-1f1f-4e98-8bfc-9e2cac8084d3",
     "showTitle": false,
     "title": ""
    }
   },
   "outputs": [
    {
     "output_type": "stream",
     "name": "stdout",
     "output_type": "stream",
     "text": [
      "Train time on None: 13.215 seconds\nModel: \"sequential_13\"\n_________________________________________________________________\n Layer (type)                Output Shape              Param #   \n=================================================================\n dense_36 (Dense)            (None, 16)                496       \n                                                                 \n dense_37 (Dense)            (None, 32)                544       \n                                                                 \n dense_38 (Dense)            (None, 64)                2112      \n                                                                 \n dropout_13 (Dropout)        (None, 64)                0         \n                                                                 \n dense_39 (Dense)            (None, 1)                 65        \n                                                                 \n=================================================================\nTotal params: 3217 (12.57 KB)\nTrainable params: 3217 (12.57 KB)\nNon-trainable params: 0 (0.00 Byte)\n_________________________________________________________________\n"
     ]
    }
   ],
   "source": [
    "model_0.compile(loss='binary_crossentropy', optimizer=Adam(learning_rate=0.001), metrics=['accuracy'])\n",
    "\n",
    "# Print time for the model\n",
    "time_end = timer()\n",
    "total_train_time_model_0 = print_train_time(start=time_start,\n",
    "                                            end=time_end)\n",
    "model_0.summary()"
   ]
  },
  {
   "cell_type": "code",
   "execution_count": 0,
   "metadata": {
    "application/vnd.databricks.v1+cell": {
     "cellMetadata": {
      "byteLimit": 2048000,
      "rowLimit": 10000
     },
     "inputWidgets": {},
     "nuid": "22d50057-1d3e-4081-9fc0-5b3fa85bc193",
     "showTitle": false,
     "title": ""
    }
   },
   "outputs": [
    {
     "output_type": "stream",
     "name": "stdout",
     "output_type": "stream",
     "text": [
      "Epoch 1/100\n\r 1/15 [=>............................] - ETA: 12s - loss: 14.0305 - accuracy: 0.3125WARNING:tensorflow:Callback method `on_train_batch_end` is slow compared to the batch time (batch time: 0.0016s vs `on_train_batch_end` time: 0.0025s). Check your callbacks.\n"
     ]
    },
    {
     "output_type": "stream",
     "name": "stderr",
     "output_type": "stream",
     "text": [
      "WARNING:tensorflow:Callback method `on_train_batch_end` is slow compared to the batch time (batch time: 0.0016s vs `on_train_batch_end` time: 0.0025s). Check your callbacks.\n"
     ]
    },
    {
     "output_type": "stream",
     "name": "stdout",
     "output_type": "stream",
     "text": [
      "\b\b\b\b\b\b\b\b\b\b\b\b\b\b\b\b\b\b\b\b\b\b\b\b\b\b\b\b\b\b\b\b\b\b\b\b\b\b\b\b\b\b\b\b\b\b\b\b\b\b\b\b\b\b\b\b\b\b\b\b\b\b\b\b\b\b\b\b\b\b\b\b\b\b\b\b\b\b\b\b\b\b\b\b\r15/15 [==============================] - 1s 26ms/step - loss: 13.0170 - accuracy: 0.4659 - val_loss: 0.3587 - val_accuracy: 0.8947\nEpoch 2/100\n\r 1/15 [=>............................] - ETA: 0s - loss: 3.9788 - accuracy: 0.6562\b\b\b\b\b\b\b\b\b\b\b\b\b\b\b\b\b\b\b\b\b\b\b\b\b\b\b\b\b\b\b\b\b\b\b\b\b\b\b\b\b\b\b\b\b\b\b\b\b\b\b\b\b\b\b\b\b\b\b\b\b\b\b\b\b\b\b\b\b\b\b\b\b\b\b\b\b\b\b\b\b\b\r15/15 [==============================] - 0s 4ms/step - loss: 7.0922 - accuracy: 0.5385 - val_loss: 0.2165 - val_accuracy: 0.9298\nEpoch 3/100\n\r 1/15 [=>............................] - ETA: 0s - loss: 4.4685 - accuracy: 0.6250\b\b\b\b\b\b\b\b\b\b\b\b\b\b\b\b\b\b\b\b\b\b\b\b\b\b\b\b\b\b\b\b\b\b\b\b\b\b\b\b\b\b\b\b\b\b\b\b\b\b\b\b\b\b\b\b\b\b\b\b\b\b\b\b\b\b\b\b\b\b\b\b\b\b\b\b\b\b\b\b\b\b\r15/15 [==============================] - 0s 4ms/step - loss: 5.1439 - accuracy: 0.6330 - val_loss: 0.6979 - val_accuracy: 0.9035\nEpoch 4/100\n\r 1/15 [=>............................] - ETA: 0s - loss: 4.6943 - accuracy: 0.7188\b\b\b\b\b\b\b\b\b\b\b\b\b\b\b\b\b\b\b\b\b\b\b\b\b\b\b\b\b\b\b\b\b\b\b\b\b\b\b\b\b\b\b\b\b\b\b\b\b\b\b\b\b\b\b\b\b\b\b\b\b\b\b\b\b\b\b\b\b\b\b\b\b\b\b\b\b\b\b\b\b\b\r15/15 [==============================] - 0s 4ms/step - loss: 3.0079 - accuracy: 0.7341 - val_loss: 0.2007 - val_accuracy: 0.9474\nEpoch 5/100\n\r 1/15 [=>............................] - ETA: 0s - loss: 0.2468 - accuracy: 0.9375\b\b\b\b\b\b\b\b\b\b\b\b\b\b\b\b\b\b\b\b\b\b\b\b\b\b\b\b\b\b\b\b\b\b\b\b\b\b\b\b\b\b\b\b\b\b\b\b\b\b\b\b\b\b\b\b\b\b\b\b\b\b\b\b\b\b\b\b\b\b\b\b\b\b\b\b\b\b\b\b\b\b\r15/15 [==============================] - 0s 4ms/step - loss: 1.7386 - accuracy: 0.8418 - val_loss: 1.1511 - val_accuracy: 0.7632\nEpoch 6/100\n\r 1/15 [=>............................] - ETA: 0s - loss: 2.9767 - accuracy: 0.6875\b\b\b\b\b\b\b\b\b\b\b\b\b\b\b\b\b\b\b\b\b\b\b\b\b\b\b\b\b\b\b\b\b\b\b\b\b\b\b\b\b\b\b\b\b\b\b\b\b\b\b\b\b\b\b\b\b\b\b\b\b\b\b\b\b\b\b\b\b\b\b\b\b\b\b\b\b\b\b\b\b\b\r15/15 [==============================] - 0s 5ms/step - loss: 1.9878 - accuracy: 0.8154 - val_loss: 0.1935 - val_accuracy: 0.9386\nEpoch 7/100\n\r 1/15 [=>............................] - ETA: 0s - loss: 1.0016 - accuracy: 0.8750\b\b\b\b\b\b\b\b\b\b\b\b\b\b\b\b\b\b\b\b\b\b\b\b\b\b\b\b\b\b\b\b\b\b\b\b\b\b\b\b\b\b\b\b\b\b\b\b\b\b\b\b\b\b\b\b\b\b\b\b\b\b\b\b\b\b\b\b\b\b\b\b\b\b\b\b\b\b\b\b\b\b\r15/15 [==============================] - 0s 4ms/step - loss: 0.9545 - accuracy: 0.8615 - val_loss: 0.3077 - val_accuracy: 0.9561\nEpoch 8/100\n\r 1/15 [=>............................] - ETA: 0s - loss: 1.0753 - accuracy: 0.9375\b\b\b\b\b\b\b\b\b\b\b\b\b\b\b\b\b\b\b\b\b\b\b\b\b\b\b\b\b\b\b\b\b\b\b\b\b\b\b\b\b\b\b\b\b\b\b\b\b\b\b\b\b\b\b\b\b\b\b\b\b\b\b\b\b\b\b\b\b\b\b\b\b\b\b\b\b\b\b\b\b\b\r15/15 [==============================] - 0s 4ms/step - loss: 1.0126 - accuracy: 0.8747 - val_loss: 0.1250 - val_accuracy: 0.9474\nEpoch 9/100\n\r 1/15 [=>............................] - ETA: 0s - loss: 0.7424 - accuracy: 0.8125\b\b\b\b\b\b\b\b\b\b\b\b\b\b\b\b\b\b\b\b\b\b\b\b\b\b\b\b\b\b\b\b\b\b\b\b\b\b\b\b\b\b\b\b\b\b\b\b\b\b\b\b\b\b\b\b\b\b\b\b\b\b\b\b\b\b\b\b\b\b\b\b\b\b\b\b\b\b\b\b\b\b\r15/15 [==============================] - 0s 4ms/step - loss: 1.1169 - accuracy: 0.8330 - val_loss: 0.1842 - val_accuracy: 0.9474\nEpoch 10/100\n\r 1/15 [=>............................] - ETA: 0s - loss: 1.2508 - accuracy: 0.8750\b\b\b\b\b\b\b\b\b\b\b\b\b\b\b\b\b\b\b\b\b\b\b\b\b\b\b\b\b\b\b\b\b\b\b\b\b\b\b\b\b\b\b\b\b\b\b\b\b\b\b\b\b\b\b\b\b\b\b\b\b\b\b\b\b\b\b\b\b\b\b\b\b\b\b\b\b\b\b\b\b\b\r15/15 [==============================] - 0s 4ms/step - loss: 1.0590 - accuracy: 0.8440 - val_loss: 0.1809 - val_accuracy: 0.9474\nEpoch 11/100\n\r 1/15 [=>............................] - ETA: 0s - loss: 1.5112 - accuracy: 0.8750\b\b\b\b\b\b\b\b\b\b\b\b\b\b\b\b\b\b\b\b\b\b\b\b\b\b\b\b\b\b\b\b\b\b\b\b\b\b\b\b\b\b\b\b\b\b\b\b\b\b\b\b\b\b\b\b\b\b\b\b\b\b\b\b\b\b\b\b\b\b\b\b\b\b\b\b\b\b\b\b\b\b\r15/15 [==============================] - 0s 4ms/step - loss: 0.8465 - accuracy: 0.8879 - val_loss: 0.1289 - val_accuracy: 0.9474\nEpoch 12/100\n\r 1/15 [=>............................] - ETA: 0s - loss: 0.7499 - accuracy: 0.9062\b\b\b\b\b\b\b\b\b\b\b\b\b\b\b\b\b\b\b\b\b\b\b\b\b\b\b\b\b\b\b\b\b\b\b\b\b\b\b\b\b\b\b\b\b\b\b\b\b\b\b\b\b\b\b\b\b\b\b\b\b\b\b\b\b\b\b\b\b\b\b\b\b\b\b\b\b\b\b\b\b\b\r15/15 [==============================] - 0s 4ms/step - loss: 0.7978 - accuracy: 0.8791 - val_loss: 0.1146 - val_accuracy: 0.9474\nEpoch 13/100\n\r 1/15 [=>............................] - ETA: 0s - loss: 0.3682 - accuracy: 0.9062\b\b\b\b\b\b\b\b\b\b\b\b\b\b\b\b\b\b\b\b\b\b\b\b\b\b\b\b\b\b\b\b\b\b\b\b\b\b\b\b\b\b\b\b\b\b\b\b\b\b\b\b\b\b\b\b\b\b\b\b\b\b\b\b\b\b\b\b\b\b\b\b\b\b\b\b\b\b\b\b\b\b\r15/15 [==============================] - 0s 4ms/step - loss: 0.8743 - accuracy: 0.8593 - val_loss: 0.1418 - val_accuracy: 0.9561\nEpoch 14/100\n\r 1/15 [=>............................] - ETA: 0s - loss: 0.1130 - accuracy: 0.9375\b\b\b\b\b\b\b\b\b\b\b\b\b\b\b\b\b\b\b\b\b\b\b\b\b\b\b\b\b\b\b\b\b\b\b\b\b\b\b\b\b\b\b\b\b\b\b\b\b\b\b\b\b\b\b\b\b\b\b\b\b\b\b\b\b\b\b\b\b\b\b\b\b\b\b\b\b\b\b\b\b\b\r15/15 [==============================] - 0s 4ms/step - loss: 0.6954 - accuracy: 0.8703 - val_loss: 0.1722 - val_accuracy: 0.9561\nEpoch 15/100\n\r 1/15 [=>............................] - ETA: 0s - loss: 0.2439 - accuracy: 0.9375\b\b\b\b\b\b\b\b\b\b\b\b\b\b\b\b\b\b\b\b\b\b\b\b\b\b\b\b\b\b\b\b\b\b\b\b\b\b\b\b\b\b\b\b\b\b\b\b\b\b\b\b\b\b\b\b\b\b\b\b\b\b\b\b\b\b\b\b\b\b\b\b\b\b\b\b\b\b\b\b\b\b\r15/15 [==============================] - 0s 15ms/step - loss: 0.5683 - accuracy: 0.9033 - val_loss: 0.0833 - val_accuracy: 0.9474\nEpoch 16/100\n\r 1/15 [=>............................] - ETA: 0s - loss: 0.8598 - accuracy: 0.8438\b\b\b\b\b\b\b\b\b\b\b\b\b\b\b\b\b\b\b\b\b\b\b\b\b\b\b\b\b\b\b\b\b\b\b\b\b\b\b\b\b\b\b\b\b\b\b\b\b\b\b\b\b\b\b\b\b\b\b\b\b\b\b\b\b\b\b\b\b\b\b\b\b\b\b\b\b\b\b\b\b\b\r15/15 [==============================] - 0s 5ms/step - loss: 0.6888 - accuracy: 0.8593 - val_loss: 0.1439 - val_accuracy: 0.9386\nEpoch 17/100\n\r 1/15 [=>............................] - ETA: 0s - loss: 0.8575 - accuracy: 0.8125\b\b\b\b\b\b\b\b\b\b\b\b\b\b\b\b\b\b\b\b\b\b\b\b\b\b\b\b\b\b\b\b\b\b\b\b\b\b\b\b\b\b\b\b\b\b\b\b\b\b\b\b\b\b\b\b\b\b\b\b\b\b\b\b\b\b\b\b\b\b\b\b\b\b\b\b\b\b\b\b\b\b\r15/15 [==============================] - 0s 5ms/step - loss: 0.5700 - accuracy: 0.8923 - val_loss: 0.1028 - val_accuracy: 0.9474\nEpoch 18/100\n\r 1/15 [=>............................] - ETA: 0s - loss: 0.3969 - accuracy: 0.8750\b\b\b\b\b\b\b\b\b\b\b\b\b\b\b\b\b\b\b\b\b\b\b\b\b\b\b\b\b\b\b\b\b\b\b\b\b\b\b\b\b\b\b\b\b\b\b\b\b\b\b\b\b\b\b\b\b\b\b\b\b\b\b\b\b\b\b\b\b\b\b\b\b\b\b\b\b\b\b\b\b\b\r15/15 [==============================] - 0s 4ms/step - loss: 0.6395 - accuracy: 0.8813 - val_loss: 0.0870 - val_accuracy: 0.9474\nEpoch 19/100\n\r 1/15 [=>............................] - ETA: 0s - loss: 0.7046 - accuracy: 0.8750\b\b\b\b\b\b\b\b\b\b\b\b\b\b\b\b\b\b\b\b\b\b\b\b\b\b\b\b\b\b\b\b\b\b\b\b\b\b\b\b\b\b\b\b\b\b\b\b\b\b\b\b\b\b\b\b\b\b\b\b\b\b\b\b\b\b\b\b\b\b\b\b\b\b\b\b\b\b\b\b\b\b\r15/15 [==============================] - 0s 4ms/step - loss: 0.5915 - accuracy: 0.8637 - val_loss: 0.1131 - val_accuracy: 0.9737\nEpoch 20/100\n\r 1/15 [=>............................] - ETA: 0s - loss: 0.4379 - accuracy: 0.9062\b\b\b\b\b\b\b\b\b\b\b\b\b\b\b\b\b\b\b\b\b\b\b\b\b\b\b\b\b\b\b\b\b\b\b\b\b\b\b\b\b\b\b\b\b\b\b\b\b\b\b\b\b\b\b\b\b\b\b\b\b\b\b\b\b\b\b\b\b\b\b\b\b\b\b\b\b\b\b\b\b\b\r15/15 [==============================] - 0s 4ms/step - loss: 0.5659 - accuracy: 0.8571 - val_loss: 0.1406 - val_accuracy: 0.9386\nEpoch 21/100\n\r 1/15 [=>............................] - ETA: 0s - loss: 0.1331 - accuracy: 0.9375\b\b\b\b\b\b\b\b\b\b\b\b\b\b\b\b\b\b\b\b\b\b\b\b\b\b\b\b\b\b\b\b\b\b\b\b\b\b\b\b\b\b\b\b\b\b\b\b\b\b\b\b\b\b\b\b\b\b\b\b\b\b\b\b\b\b\b\b\b\b\b\b\b\b\b\b\b\b\b\b\b\b\r15/15 [==============================] - 0s 4ms/step - loss: 0.5214 - accuracy: 0.8659 - val_loss: 0.0823 - val_accuracy: 0.9649\nEpoch 22/100\n\r 1/15 [=>............................] - ETA: 0s - loss: 0.1465 - accuracy: 0.9375\b\b\b\b\b\b\b\b\b\b\b\b\b\b\b\b\b\b\b\b\b\b\b\b\b\b\b\b\b\b\b\b\b\b\b\b\b\b\b\b\b\b\b\b\b\b\b\b\b\b\b\b\b\b\b\b\b\b\b\b\b\b\b\b\b\b\b\b\b\b\b\b\b\b\b\b\b\b\b\b\b\b\r15/15 [==============================] - 0s 4ms/step - loss: 0.4491 - accuracy: 0.8813 - val_loss: 0.2499 - val_accuracy: 0.9123\nEpoch 23/100\n\r 1/15 [=>............................] - ETA: 0s - loss: 0.3803 - accuracy: 0.9375\b\b\b\b\b\b\b\b\b\b\b\b\b\b\b\b\b\b\b\b\b\b\b\b\b\b\b\b\b\b\b\b\b\b\b\b\b\b\b\b\b\b\b\b\b\b\b\b\b\b\b\b\b\b\b\b\b\b\b\b\b\b\b\b\b\b\b\b\b\b\b\b\b\b\b\b\b\b\b\b\b\b\r15/15 [==============================] - 0s 4ms/step - loss: 0.4391 - accuracy: 0.8725 - val_loss: 0.0822 - val_accuracy: 0.9561\nEpoch 24/100\n\r 1/15 [=>............................] - ETA: 0s - loss: 0.3469 - accuracy: 0.8438\b\b\b\b\b\b\b\b\b\b\b\b\b\b\b\b\b\b\b\b\b\b\b\b\b\b\b\b\b\b\b\b\b\b\b\b\b\b\b\b\b\b\b\b\b\b\b\b\b\b\b\b\b\b\b\b\b\b\b\b\b\b\b\b\b\b\b\b\b\b\b\b\b\b\b\b\b\b\b\b\b\b\r15/15 [==============================] - 0s 5ms/step - loss: 0.3462 - accuracy: 0.8835 - val_loss: 0.1347 - val_accuracy: 0.9474\nEpoch 25/100\n\r 1/15 [=>............................] - ETA: 0s - loss: 0.1537 - accuracy: 0.9375\b\b\b\b\b\b\b\b\b\b\b\b\b\b\b\b\b\b\b\b\b\b\b\b\b\b\b\b\b\b\b\b\b\b\b\b\b\b\b\b\b\b\b\b\b\b\b\b\b\b\b\b\b\b\b\b\b\b\b\b\b\b\b\b\b\b\b\b\b\b\b\b\b\b\b\b\b\b\b\b\b\b\r15/15 [==============================] - 0s 4ms/step - loss: 0.3281 - accuracy: 0.8791 - val_loss: 0.1146 - val_accuracy: 0.9386\nEpoch 26/100\n\r 1/15 [=>............................] - ETA: 0s - loss: 0.4212 - accuracy: 0.8438\b\b\b\b\b\b\b\b\b\b\b\b\b\b\b\b\b\b\b\b\b\b\b\b\b\b\b\b\b\b\b\b\b\b\b\b\b\b\b\b\b\b\b\b\b\b\b\b\b\b\b\b\b\b\b\b\b\b\b\b\b\b\b\b\b\b\b\b\b\b\b\b\b\b\b\b\b\b\b\b\b\b\r15/15 [==============================] - 0s 4ms/step - loss: 0.3504 - accuracy: 0.8791 - val_loss: 0.2037 - val_accuracy: 0.9211\nEpoch 27/100\n\r 1/15 [=>............................] - ETA: 0s - loss: 0.5642 - accuracy: 0.8750\b\b\b\b\b\b\b\b\b\b\b\b\b\b\b\b\b\b\b\b\b\b\b\b\b\b\b\b\b\b\b\b\b\b\b\b\b\b\b\b\b\b\b\b\b\b\b\b\b\b\b\b\b\b\b\b\b\b\b\b\b\b\b\b\b\b\b\b\b\b\b\b\b\b\b\b\b\b\b\b\b\b\r15/15 [==============================] - 0s 5ms/step - loss: 0.3243 - accuracy: 0.8769 - val_loss: 0.1042 - val_accuracy: 0.9649\nEpoch 28/100\n\r 1/15 [=>............................] - ETA: 0s - loss: 0.1573 - accuracy: 0.9375\b\b\b\b\b\b\b\b\b\b\b\b\b\b\b\b\b\b\b\b\b\b\b\b\b\b\b\b\b\b\b\b\b\b\b\b\b\b\b\b\b\b\b\b\b\b\b\b\b\b\b\b\b\b\b\b\b\b\b\b\b\b\b\b\b\b\b\b\b\b\b\b\b\b\b\b\b\b\b\b\b\b\r15/15 [==============================] - 0s 4ms/step - loss: 0.3085 - accuracy: 0.8857 - val_loss: 0.1415 - val_accuracy: 0.9211\nEpoch 29/100\n\r 1/15 [=>............................] - ETA: 0s - loss: 0.2802 - accuracy: 0.9062\b\b\b\b\b\b\b\b\b\b\b\b\b\b\b\b\b\b\b\b\b\b\b\b\b\b\b\b\b\b\b\b\b\b\b\b\b\b\b\b\b\b\b\b\b\b\b\b\b\b\b\b\b\b\b\b\b\b\b\b\b\b\b\b\b\b\b\b\b\b\b\b\b\b\b\b\b\b\b\b\b\b\r15/15 [==============================] - 0s 4ms/step - loss: 0.3036 - accuracy: 0.8725 - val_loss: 0.1002 - val_accuracy: 0.9649\nEpoch 30/100\n\r 1/15 [=>............................] - ETA: 0s - loss: 0.3387 - accuracy: 0.9062\b\b\b\b\b\b\b\b\b\b\b\b\b\b\b\b\b\b\b\b\b\b\b\b\b\b\b\b\b\b\b\b\b\b\b\b\b\b\b\b\b\b\b\b\b\b\b\b\b\b\b\b\b\b\b\b\b\b\b\b\b\b\b\b\b\b\b\b\b\b\b\b\b\b\b\b\b\b\b\b\b\b\r15/15 [==============================] - 0s 4ms/step - loss: 0.2961 - accuracy: 0.9011 - val_loss: 0.1231 - val_accuracy: 0.9298\nEpoch 31/100\n\r 1/15 [=>............................] - ETA: 0s - loss: 0.2065 - accuracy: 0.9062\b\b\b\b\b\b\b\b\b\b\b\b\b\b\b\b\b\b\b\b\b\b\b\b\b\b\b\b\b\b\b\b\b\b\b\b\b\b\b\b\b\b\b\b\b\b\b\b\b\b\b\b\b\b\b\b\b\b\b\b\b\b\b\b\b\b\b\b\b\b\b\b\b\b\b\b\b\b\b\b\b\b\r15/15 [==============================] - 0s 4ms/step - loss: 0.2327 - accuracy: 0.9143 - val_loss: 0.1108 - val_accuracy: 0.9649\nEpoch 32/100\n\r 1/15 [=>............................] - ETA: 0s - loss: 0.4119 - accuracy: 0.7500\b\b\b\b\b\b\b\b\b\b\b\b\b\b\b\b\b\b\b\b\b\b\b\b\b\b\b\b\b\b\b\b\b\b\b\b\b\b\b\b\b\b\b\b\b\b\b\b\b\b\b\b\b\b\b\b\b\b\b\b\b\b\b\b\b\b\b\b\b\b\b\b\b\b\b\b\b\b\b\b\b\b\r15/15 [==============================] - 0s 4ms/step - loss: 0.2329 - accuracy: 0.9055 - val_loss: 0.1165 - val_accuracy: 0.9561\nEpoch 33/100\n\r 1/15 [=>............................] - ETA: 0s - loss: 0.1327 - accuracy: 0.9688\b\b\b\b\b\b\b\b\b\b\b\b\b\b\b\b\b\b\b\b\b\b\b\b\b\b\b\b\b\b\b\b\b\b\b\b\b\b\b\b\b\b\b\b\b\b\b\b\b\b\b\b\b\b\b\b\b\b\b\b\b\b\b\b\b\b\b\b\b\b\b\b\b\b\b\b\b\b\b\b\b\b\r15/15 [==============================] - 0s 4ms/step - loss: 0.2573 - accuracy: 0.8989 - val_loss: 0.1416 - val_accuracy: 0.9211\nEpoch 34/100\n\r 1/15 [=>............................] - ETA: 0s - loss: 0.1487 - accuracy: 0.9375\b\b\b\b\b\b\b\b\b\b\b\b\b\b\b\b\b\b\b\b\b\b\b\b\b\b\b\b\b\b\b\b\b\b\b\b\b\b\b\b\b\b\b\b\b\b\b\b\b\b\b\b\b\b\b\b\b\b\b\b\b\b\b\b\b\b\b\b\b\b\b\b\b\b\b\b\b\b\b\b\b\b\r15/15 [==============================] - 0s 18ms/step - loss: 0.2297 - accuracy: 0.8923 - val_loss: 0.1117 - val_accuracy: 0.9474\nEpoch 35/100\n\r 1/15 [=>............................] - ETA: 0s - loss: 0.0626 - accuracy: 1.0000\b\b\b\b\b\b\b\b\b\b\b\b\b\b\b\b\b\b\b\b\b\b\b\b\b\b\b\b\b\b\b\b\b\b\b\b\b\b\b\b\b\b\b\b\b\b\b\b\b\b\b\b\b\b\b\b\b\b\b\b\b\b\b\b\b\b\b\b\b\b\b\b\b\b\b\b\b\b\b\b\b\b\r15/15 [==============================] - 0s 4ms/step - loss: 0.2795 - accuracy: 0.8967 - val_loss: 0.1574 - val_accuracy: 0.9649\nEpoch 36/100\n\r 1/15 [=>............................] - ETA: 0s - loss: 0.3414 - accuracy: 0.8125\b\b\b\b\b\b\b\b\b\b\b\b\b\b\b\b\b\b\b\b\b\b\b\b\b\b\b\b\b\b\b\b\b\b\b\b\b\b\b\b\b\b\b\b\b\b\b\b\b\b\b\b\b\b\b\b\b\b\b\b\b\b\b\b\b\b\b\b\b\b\b\b\b\b\b\b\b\b\b\b\b\b\r15/15 [==============================] - 0s 4ms/step - loss: 0.2528 - accuracy: 0.8923 - val_loss: 0.1230 - val_accuracy: 0.9561\nEpoch 37/100\n\r 1/15 [=>............................] - ETA: 0s - loss: 0.1483 - accuracy: 0.9375\b\b\b\b\b\b\b\b\b\b\b\b\b\b\b\b\b\b\b\b\b\b\b\b\b\b\b\b\b\b\b\b\b\b\b\b\b\b\b\b\b\b\b\b\b\b\b\b\b\b\b\b\b\b\b\b\b\b\b\b\b\b\b\b\b\b\b\b\b\b\b\b\b\b\b\b\b\b\b\b\b\b\r15/15 [==============================] - 0s 5ms/step - loss: 0.2533 - accuracy: 0.9099 - val_loss: 0.1419 - val_accuracy: 0.9211\nEpoch 38/100\n\r 1/15 [=>............................] - ETA: 0s - loss: 0.3190 - accuracy: 0.8750\b\b\b\b\b\b\b\b\b\b\b\b\b\b\b\b\b\b\b\b\b\b\b\b\b\b\b\b\b\b\b\b\b\b\b\b\b\b\b\b\b\b\b\b\b\b\b\b\b\b\b\b\b\b\b\b\b\b\b\b\b\b\b\b\b\b\b\b\b\b\b\b\b\b\b\b\b\b\b\b\b\b\r15/15 [==============================] - 0s 5ms/step - loss: 0.2107 - accuracy: 0.9253 - val_loss: 0.1122 - val_accuracy: 0.9561\nEpoch 39/100\n\r 1/15 [=>............................] - ETA: 0s - loss: 0.1420 - accuracy: 0.9375\b\b\b\b\b\b\b\b\b\b\b\b\b\b\b\b\b\b\b\b\b\b\b\b\b\b\b\b\b\b\b\b\b\b\b\b\b\b\b\b\b\b\b\b\b\b\b\b\b\b\b\b\b\b\b\b\b\b\b\b\b\b\b\b\b\b\b\b\b\b\b\b\b\b\b\b\b\b\b\b\b\b\r15/15 [==============================] - 0s 5ms/step - loss: 0.2531 - accuracy: 0.9143 - val_loss: 0.1079 - val_accuracy: 0.9561\nEpoch 40/100\n\r 1/15 [=>............................] - ETA: 0s - loss: 0.2923 - accuracy: 0.8750\b\b\b\b\b\b\b\b\b\b\b\b\b\b\b\b\b\b\b\b\b\b\b\b\b\b\b\b\b\b\b\b\b\b\b\b\b\b\b\b\b\b\b\b\b\b\b\b\b\b\b\b\b\b\b\b\b\b\b\b\b\b\b\b\b\b\b\b\b\b\b\b\b\b\b\b\b\b\b\b\b\b\r15/15 [==============================] - 0s 4ms/step - loss: 0.2122 - accuracy: 0.9121 - val_loss: 0.1284 - val_accuracy: 0.9298\nEpoch 41/100\n\r 1/15 [=>............................] - ETA: 0s - loss: 0.2576 - accuracy: 0.8750\b\b\b\b\b\b\b\b\b\b\b\b\b\b\b\b\b\b\b\b\b\b\b\b\b\b\b\b\b\b\b\b\b\b\b\b\b\b\b\b\b\b\b\b\b\b\b\b\b\b\b\b\b\b\b\b\b\b\b\b\b\b\b\b\b\b\b\b\b\b\b\b\b\b\b\b\b\b\b\b\b\b\r15/15 [==============================] - 0s 4ms/step - loss: 0.2310 - accuracy: 0.9033 - val_loss: 0.1315 - val_accuracy: 0.9649\nEpoch 42/100\n\r 1/15 [=>............................] - ETA: 0s - loss: 0.2038 - accuracy: 0.9062\b\b\b\b\b\b\b\b\b\b\b\b\b\b\b\b\b\b\b\b\b\b\b\b\b\b\b\b\b\b\b\b\b\b\b\b\b\b\b\b\b\b\b\b\b\b\b\b\b\b\b\b\b\b\b\b\b\b\b\b\b\b\b\b\b\b\b\b\b\b\b\b\b\b\b\b\b\b\b\b\b\b\r15/15 [==============================] - 0s 5ms/step - loss: 0.2133 - accuracy: 0.9099 - val_loss: 0.1329 - val_accuracy: 0.9298\nEpoch 43/100\n\r 1/15 [=>............................] - ETA: 0s - loss: 0.1544 - accuracy: 0.9062\b\b\b\b\b\b\b\b\b\b\b\b\b\b\b\b\b\b\b\b\b\b\b\b\b\b\b\b\b\b\b\b\b\b\b\b\b\b\b\b\b\b\b\b\b\b\b\b\b\b\b\b\b\b\b\b\b\b\b\b\b\b\b\b\b\b\b\b\b\b\b\b\b\b\b\b\b\b\b\b\b\b\r15/15 [==============================] - 0s 5ms/step - loss: 0.2374 - accuracy: 0.9033 - val_loss: 0.1189 - val_accuracy: 0.9649\nEpoch 44/100\n\r 1/15 [=>............................] - ETA: 0s - loss: 0.1559 - accuracy: 0.9688\b\b\b\b\b\b\b\b\b\b\b\b\b\b\b\b\b\b\b\b\b\b\b\b\b\b\b\b\b\b\b\b\b\b\b\b\b\b\b\b\b\b\b\b\b\b\b\b\b\b\b\b\b\b\b\b\b\b\b\b\b\b\b\b\b\b\b\b\b\b\b\b\b\b\b\b\b\b\b\b\b\b\r15/15 [==============================] - 0s 4ms/step - loss: 0.2559 - accuracy: 0.9033 - val_loss: 0.1424 - val_accuracy: 0.9561\nEpoch 45/100\n\r 1/15 [=>............................] - ETA: 0s - loss: 0.2094 - accuracy: 0.9062\b\b\b\b\b\b\b\b\b\b\b\b\b\b\b\b\b\b\b\b\b\b\b\b\b\b\b\b\b\b\b\b\b\b\b\b\b\b\b\b\b\b\b\b\b\b\b\b\b\b\b\b\b\b\b\b\b\b\b\b\b\b\b\b\b\b\b\b\b\b\b\b\b\b\b\b\b\b\b\b\b\b\r15/15 [==============================] - 0s 4ms/step - loss: 0.2074 - accuracy: 0.9253 - val_loss: 0.1227 - val_accuracy: 0.9298\nEpoch 46/100\n\r 1/15 [=>............................] - ETA: 0s - loss: 0.0535 - accuracy: 1.0000\b\b\b\b\b\b\b\b\b\b\b\b\b\b\b\b\b\b\b\b\b\b\b\b\b\b\b\b\b\b\b\b\b\b\b\b\b\b\b\b\b\b\b\b\b\b\b\b\b\b\b\b\b\b\b\b\b\b\b\b\b\b\b\b\b\b\b\b\b\b\b\b\b\b\b\b\b\b\b\b\b\b\r15/15 [==============================] - 0s 5ms/step - loss: 0.1998 - accuracy: 0.9143 - val_loss: 0.1467 - val_accuracy: 0.9474\nEpoch 47/100\n\r 1/15 [=>............................] - ETA: 0s - loss: 0.2627 - accuracy: 0.8438\b\b\b\b\b\b\b\b\b\b\b\b\b\b\b\b\b\b\b\b\b\b\b\b\b\b\b\b\b\b\b\b\b\b\b\b\b\b\b\b\b\b\b\b\b\b\b\b\b\b\b\b\b\b\b\b\b\b\b\b\b\b\b\b\b\b\b\b\b\b\b\b\b\b\b\b\b\b\b\b\b\b\r15/15 [==============================] - 0s 5ms/step - loss: 0.2160 - accuracy: 0.9143 - val_loss: 0.1177 - val_accuracy: 0.9298\nEpoch 48/100\n\r 1/15 [=>............................] - ETA: 0s - loss: 0.2565 - accuracy: 0.9375\b\b\b\b\b\b\b\b\b\b\b\b\b\b\b\b\b\b\b\b\b\b\b\b\b\b\b\b\b\b\b\b\b\b\b\b\b\b\b\b\b\b\b\b\b\b\b\b\b\b\b\b\b\b\b\b\b\b\b\b\b\b\b\b\b\b\b\b\b\b\b\b\b\b\b\b\b\b\b\b\b\b\r15/15 [==============================] - 0s 4ms/step - loss: 0.2162 - accuracy: 0.9187 - val_loss: 0.1098 - val_accuracy: 0.9737\nEpoch 49/100\n\r 1/15 [=>............................] - ETA: 0s - loss: 0.2782 - accuracy: 0.9062\b\b\b\b\b\b\b\b\b\b\b\b\b\b\b\b\b\b\b\b\b\b\b\b\b\b\b\b\b\b\b\b\b\b\b\b\b\b\b\b\b\b\b\b\b\b\b\b\b\b\b\b\b\b\b\b\b\b\b\b\b\b\b\b\b\b\b\b\b\b\b\b\b\b\b\b\b\b\b\b\b\b\r15/15 [==============================] - 0s 4ms/step - loss: 0.1925 - accuracy: 0.9209 - val_loss: 0.1193 - val_accuracy: 0.9474\nEpoch 50/100\n\r 1/15 [=>............................] - ETA: 0s - loss: 0.1920 - accuracy: 0.9062\b\b\b\b\b\b\b\b\b\b\b\b\b\b\b\b\b\b\b\b\b\b\b\b\b\b\b\b\b\b\b\b\b\b\b\b\b\b\b\b\b\b\b\b\b\b\b\b\b\b\b\b\b\b\b\b\b\b\b\b\b\b\b\b\b\b\b\b\b\b\b\b\b\b\b\b\b\b\b\b\b\b\r15/15 [==============================] - 0s 5ms/step - loss: 0.2129 - accuracy: 0.9143 - val_loss: 0.1553 - val_accuracy: 0.9386\nEpoch 51/100\n\r 1/15 [=>............................] - ETA: 0s - loss: 0.1764 - accuracy: 0.8750\b\b\b\b\b\b\b\b\b\b\b\b\b\b\b\b\b\b\b\b\b\b\b\b\b\b\b\b\b\b\b\b\b\b\b\b\b\b\b\b\b\b\b\b\b\b\b\b\b\b\b\b\b\b\b\b\b\b\b\b\b\b\b\b\b\b\b\b\b\b\b\b\b\b\b\b\b\b\b\b\b\b\r15/15 [==============================] - 0s 4ms/step - loss: 0.2084 - accuracy: 0.9055 - val_loss: 0.1064 - val_accuracy: 0.9649\nEpoch 52/100\n\r 1/15 [=>............................] - ETA: 0s - loss: 0.4132 - accuracy: 0.8750\b\b\b\b\b\b\b\b\b\b\b\b\b\b\b\b\b\b\b\b\b\b\b\b\b\b\b\b\b\b\b\b\b\b\b\b\b\b\b\b\b\b\b\b\b\b\b\b\b\b\b\b\b\b\b\b\b\b\b\b\b\b\b\b\b\b\b\b\b\b\b\b\b\b\b\b\b\b\b\b\b\b\r15/15 [==============================] - 0s 4ms/step - loss: 0.2278 - accuracy: 0.9011 - val_loss: 0.1190 - val_accuracy: 0.9474\nEpoch 53/100\n\r 1/15 [=>............................] - ETA: 0s - loss: 0.0689 - accuracy: 0.9688\b\b\b\b\b\b\b\b\b\b\b\b\b\b\b\b\b\b\b\b\b\b\b\b\b\b\b\b\b\b\b\b\b\b\b\b\b\b\b\b\b\b\b\b\b\b\b\b\b\b\b\b\b\b\b\b\b\b\b\b\b\b\b\b\b\b\b\b\b\b\b\b\b\b\b\b\b\b\b\b\b\b\r15/15 [==============================] - 0s 4ms/step - loss: 0.2052 - accuracy: 0.9077 - val_loss: 0.1046 - val_accuracy: 0.9561\nEpoch 54/100\n\r 1/15 [=>............................] - ETA: 0s - loss: 0.2215 - accuracy: 0.9375\b\b\b\b\b\b\b\b\b\b\b\b\b\b\b\b\b\b\b\b\b\b\b\b\b\b\b\b\b\b\b\b\b\b\b\b\b\b\b\b\b\b\b\b\b\b\b\b\b\b\b\b\b\b\b\b\b\b\b\b\b\b\b\b\b\b\b\b\b\b\b\b\b\b\b\b\b\b\b\b\b\b\r15/15 [==============================] - 0s 4ms/step - loss: 0.1870 - accuracy: 0.9297 - val_loss: 0.1002 - val_accuracy: 0.9649\nEpoch 55/100\n\r 1/15 [=>............................] - ETA: 0s - loss: 0.0663 - accuracy: 1.0000\b\b\b\b\b\b\b\b\b\b\b\b\b\b\b\b\b\b\b\b\b\b\b\b\b\b\b\b\b\b\b\b\b\b\b\b\b\b\b\b\b\b\b\b\b\b\b\b\b\b\b\b\b\b\b\b\b\b\b\b\b\b\b\b\b\b\b\b\b\b\b\b\b\b\b\b\b\b\b\b\b\b\r15/15 [==============================] - 0s 4ms/step - loss: 0.2028 - accuracy: 0.9297 - val_loss: 0.1284 - val_accuracy: 0.9561\nEpoch 56/100\n\r 1/15 [=>............................] - ETA: 0s - loss: 0.2751 - accuracy: 0.8750\b\b\b\b\b\b\b\b\b\b\b\b\b\b\b\b\b\b\b\b\b\b\b\b\b\b\b\b\b\b\b\b\b\b\b\b\b\b\b\b\b\b\b\b\b\b\b\b\b\b\b\b\b\b\b\b\b\b\b\b\b\b\b\b\b\b\b\b\b\b\b\b\b\b\b\b\b\b\b\b\b\b\r15/15 [==============================] - 0s 4ms/step - loss: 0.1889 - accuracy: 0.9187 - val_loss: 0.0993 - val_accuracy: 0.9649\nEpoch 57/100\n\r 1/15 [=>............................] - ETA: 0s - loss: 0.2257 - accuracy: 0.9688\b\b\b\b\b\b\b\b\b\b\b\b\b\b\b\b\b\b\b\b\b\b\b\b\b\b\b\b\b\b\b\b\b\b\b\b\b\b\b\b\b\b\b\b\b\b\b\b\b\b\b\b\b\b\b\b\b\b\b\b\b\b\b\b\b\b\b\b\b\b\b\b\b\b\b\b\b\b\b\b\b\b\r15/15 [==============================] - 0s 4ms/step - loss: 0.2155 - accuracy: 0.9099 - val_loss: 0.1447 - val_accuracy: 0.9211\nEpoch 58/100\n\r 1/15 [=>............................] - ETA: 0s - loss: 0.2501 - accuracy: 0.9062\b\b\b\b\b\b\b\b\b\b\b\b\b\b\b\b\b\b\b\b\b\b\b\b\b\b\b\b\b\b\b\b\b\b\b\b\b\b\b\b\b\b\b\b\b\b\b\b\b\b\b\b\b\b\b\b\b\b\b\b\b\b\b\b\b\b\b\b\b\b\b\b\b\b\b\b\b\b\b\b\b\b\r15/15 [==============================] - 0s 17ms/step - loss: 0.2398 - accuracy: 0.9055 - val_loss: 0.1368 - val_accuracy: 0.9386\nEpoch 59/100\n\r 1/15 [=>............................] - ETA: 0s - loss: 0.3621 - accuracy: 0.8438\b\b\b\b\b\b\b\b\b\b\b\b\b\b\b\b\b\b\b\b\b\b\b\b\b\b\b\b\b\b\b\b\b\b\b\b\b\b\b\b\b\b\b\b\b\b\b\b\b\b\b\b\b\b\b\b\b\b\b\b\b\b\b\b\b\b\b\b\b\b\b\b\b\b\b\b\b\b\b\b\b\b\r15/15 [==============================] - 0s 4ms/step - loss: 0.1923 - accuracy: 0.9209 - val_loss: 0.1287 - val_accuracy: 0.9298\nEpoch 60/100\n\r 1/15 [=>............................] - ETA: 0s - loss: 0.2172 - accuracy: 0.8750\b\b\b\b\b\b\b\b\b\b\b\b\b\b\b\b\b\b\b\b\b\b\b\b\b\b\b\b\b\b\b\b\b\b\b\b\b\b\b\b\b\b\b\b\b\b\b\b\b\b\b\b\b\b\b\b\b\b\b\b\b\b\b\b\b\b\b\b\b\b\b\b\b\b\b\b\b\b\b\b\b\b\r15/15 [==============================] - 0s 5ms/step - loss: 0.1801 - accuracy: 0.9253 - val_loss: 0.1197 - val_accuracy: 0.9474\nEpoch 61/100\n\r 1/15 [=>............................] - ETA: 0s - loss: 0.2783 - accuracy: 0.8750\b\b\b\b\b\b\b\b\b\b\b\b\b\b\b\b\b\b\b\b\b\b\b\b\b\b\b\b\b\b\b\b\b\b\b\b\b\b\b\b\b\b\b\b\b\b\b\b\b\b\b\b\b\b\b\b\b\b\b\b\b\b\b\b\b\b\b\b\b\b\b\b\b\b\b\b\b\b\b\b\b\b\r15/15 [==============================] - 0s 4ms/step - loss: 0.1933 - accuracy: 0.9275 - val_loss: 0.1104 - val_accuracy: 0.9649\nEpoch 62/100\n\r 1/15 [=>............................] - ETA: 0s - loss: 0.0841 - accuracy: 0.9688\b\b\b\b\b\b\b\b\b\b\b\b\b\b\b\b\b\b\b\b\b\b\b\b\b\b\b\b\b\b\b\b\b\b\b\b\b\b\b\b\b\b\b\b\b\b\b\b\b\b\b\b\b\b\b\b\b\b\b\b\b\b\b\b\b\b\b\b\b\b\b\b\b\b\b\b\b\b\b\b\b\b\r15/15 [==============================] - 0s 4ms/step - loss: 0.1911 - accuracy: 0.9253 - val_loss: 0.1052 - val_accuracy: 0.9737\nEpoch 63/100\n\r 1/15 [=>............................] - ETA: 0s - loss: 0.0938 - accuracy: 0.9688\b\b\b\b\b\b\b\b\b\b\b\b\b\b\b\b\b\b\b\b\b\b\b\b\b\b\b\b\b\b\b\b\b\b\b\b\b\b\b\b\b\b\b\b\b\b\b\b\b\b\b\b\b\b\b\b\b\b\b\b\b\b\b\b\b\b\b\b\b\b\b\b\b\b\b\b\b\b\b\b\b\b\r15/15 [==============================] - 0s 4ms/step - loss: 0.1890 - accuracy: 0.9209 - val_loss: 0.1424 - val_accuracy: 0.9298\nEpoch 64/100\n\r 1/15 [=>............................] - ETA: 0s - loss: 0.1042 - accuracy: 0.9688\b\b\b\b\b\b\b\b\b\b\b\b\b\b\b\b\b\b\b\b\b\b\b\b\b\b\b\b\b\b\b\b\b\b\b\b\b\b\b\b\b\b\b\b\b\b\b\b\b\b\b\b\b\b\b\b\b\b\b\b\b\b\b\b\b\b\b\b\b\b\b\b\b\b\b\b\b\b\b\b\b\b\r15/15 [==============================] - 0s 4ms/step - loss: 0.1868 - accuracy: 0.9143 - val_loss: 0.1989 - val_accuracy: 0.8947\nEpoch 65/100\n\r 1/15 [=>............................] - ETA: 0s - loss: 0.0655 - accuracy: 1.0000\b\b\b\b\b\b\b\b\b\b\b\b\b\b\b\b\b\b\b\b\b\b\b\b\b\b\b\b\b\b\b\b\b\b\b\b\b\b\b\b\b\b\b\b\b\b\b\b\b\b\b\b\b\b\b\b\b\b\b\b\b\b\b\b\b\b\b\b\b\b\b\b\b\b\b\b\b\b\b\b\b\b\r15/15 [==============================] - 0s 4ms/step - loss: 0.2191 - accuracy: 0.9165 - val_loss: 0.1120 - val_accuracy: 0.9474\nEpoch 66/100\n\r 1/15 [=>............................] - ETA: 0s - loss: 0.2760 - accuracy: 0.8750\b\b\b\b\b\b\b\b\b\b\b\b\b\b\b\b\b\b\b\b\b\b\b\b\b\b\b\b\b\b\b\b\b\b\b\b\b\b\b\b\b\b\b\b\b\b\b\b\b\b\b\b\b\b\b\b\b\b\b\b\b\b\b\b\b\b\b\b\b\b\b\b\b\b\b\b\b\b\b\b\b\b\r15/15 [==============================] - 0s 4ms/step - loss: 0.2050 - accuracy: 0.9165 - val_loss: 0.1118 - val_accuracy: 0.9561\nEpoch 67/100\n\r 1/15 [=>............................] - ETA: 0s - loss: 0.1787 - accuracy: 0.9062\b\b\b\b\b\b\b\b\b\b\b\b\b\b\b\b\b\b\b\b\b\b\b\b\b\b\b\b\b\b\b\b\b\b\b\b\b\b\b\b\b\b\b\b\b\b\b\b\b\b\b\b\b\b\b\b\b\b\b\b\b\b\b\b\b\b\b\b\b\b\b\b\b\b\b\b\b\b\b\b\b\b\r15/15 [==============================] - 0s 4ms/step - loss: 0.2026 - accuracy: 0.9187 - val_loss: 0.1241 - val_accuracy: 0.9386\nEpoch 68/100\n\r 1/15 [=>............................] - ETA: 0s - loss: 0.1253 - accuracy: 0.9375\b\b\b\b\b\b\b\b\b\b\b\b\b\b\b\b\b\b\b\b\b\b\b\b\b\b\b\b\b\b\b\b\b\b\b\b\b\b\b\b\b\b\b\b\b\b\b\b\b\b\b\b\b\b\b\b\b\b\b\b\b\b\b\b\b\b\b\b\b\b\b\b\b\b\b\b\b\b\b\b\b\b\r15/15 [==============================] - 0s 4ms/step - loss: 0.1933 - accuracy: 0.9231 - val_loss: 0.1152 - val_accuracy: 0.9649\nEpoch 69/100\n\r 1/15 [=>............................] - ETA: 0s - loss: 0.1104 - accuracy: 0.9375\b\b\b\b\b\b\b\b\b\b\b\b\b\b\b\b\b\b\b\b\b\b\b\b\b\b\b\b\b\b\b\b\b\b\b\b\b\b\b\b\b\b\b\b\b\b\b\b\b\b\b\b\b\b\b\b\b\b\b\b\b\b\b\b\b\b\b\b\b\b\b\b\b\b\b\b\b\b\b\b\b\b\r15/15 [==============================] - 0s 4ms/step - loss: 0.1962 - accuracy: 0.9253 - val_loss: 0.1044 - val_accuracy: 0.9474\nEpoch 70/100\n\r 1/15 [=>............................] - ETA: 0s - loss: 0.1700 - accuracy: 0.9375\b\b\b\b\b\b\b\b\b\b\b\b\b\b\b\b\b\b\b\b\b\b\b\b\b\b\b\b\b\b\b\b\b\b\b\b\b\b\b\b\b\b\b\b\b\b\b\b\b\b\b\b\b\b\b\b\b\b\b\b\b\b\b\b\b\b\b\b\b\b\b\b\b\b\b\b\b\b\b\b\b\b\r15/15 [==============================] - 0s 4ms/step - loss: 0.1927 - accuracy: 0.9275 - val_loss: 0.1114 - val_accuracy: 0.9561\nEpoch 71/100\n\r 1/15 [=>............................] - ETA: 0s - loss: 0.2323 - accuracy: 0.9062\b\b\b\b\b\b\b\b\b\b\b\b\b\b\b\b\b\b\b\b\b\b\b\b\b\b\b\b\b\b\b\b\b\b\b\b\b\b\b\b\b\b\b\b\b\b\b\b\b\b\b\b\b\b\b\b\b\b\b\b\b\b\b\b\b\b\b\b\b\b\b\b\b\b\b\b\b\b\b\b\b\b\r15/15 [==============================] - 0s 5ms/step - loss: 0.2106 - accuracy: 0.9275 - val_loss: 0.1165 - val_accuracy: 0.9474\nEpoch 72/100\n\r 1/15 [=>............................] - ETA: 0s - loss: 0.1395 - accuracy: 0.9375\b\b\b\b\b\b\b\b\b\b\b\b\b\b\b\b\b\b\b\b\b\b\b\b\b\b\b\b\b\b\b\b\b\b\b\b\b\b\b\b\b\b\b\b\b\b\b\b\b\b\b\b\b\b\b\b\b\b\b\b\b\b\b\b\b\b\b\b\b\b\b\b\b\b\b\b\b\b\b\b\b\b\r15/15 [==============================] - 0s 4ms/step - loss: 0.2081 - accuracy: 0.9209 - val_loss: 0.1316 - val_accuracy: 0.9649\nEpoch 73/100\n\r 1/15 [=>............................] - ETA: 0s - loss: 0.1665 - accuracy: 0.9375\b\b\b\b\b\b\b\b\b\b\b\b\b\b\b\b\b\b\b\b\b\b\b\b\b\b\b\b\b\b\b\b\b\b\b\b\b\b\b\b\b\b\b\b\b\b\b\b\b\b\b\b\b\b\b\b\b\b\b\b\b\b\b\b\b\b\b\b\b\b\b\b\b\b\b\b\b\b\b\b\b\b\r15/15 [==============================] - 0s 4ms/step - loss: 0.1913 - accuracy: 0.9253 - val_loss: 0.1054 - val_accuracy: 0.9561\nEpoch 74/100\n\r 1/15 [=>............................] - ETA: 0s - loss: 0.2491 - accuracy: 0.9375\b\b\b\b\b\b\b\b\b\b\b\b\b\b\b\b\b\b\b\b\b\b\b\b\b\b\b\b\b\b\b\b\b\b\b\b\b\b\b\b\b\b\b\b\b\b\b\b\b\b\b\b\b\b\b\b\b\b\b\b\b\b\b\b\b\b\b\b\b\b\b\b\b\b\b\b\b\b\b\b\b\b\r15/15 [==============================] - 0s 4ms/step - loss: 0.1959 - accuracy: 0.9231 - val_loss: 0.1110 - val_accuracy: 0.9474\nEpoch 75/100\n\r 1/15 [=>............................] - ETA: 0s - loss: 0.1667 - accuracy: 0.9062\b\b\b\b\b\b\b\b\b\b\b\b\b\b\b\b\b\b\b\b\b\b\b\b\b\b\b\b\b\b\b\b\b\b\b\b\b\b\b\b\b\b\b\b\b\b\b\b\b\b\b\b\b\b\b\b\b\b\b\b\b\b\b\b\b\b\b\b\b\b\b\b\b\b\b\b\b\b\b\b\b\b\r15/15 [==============================] - 0s 4ms/step - loss: 0.1884 - accuracy: 0.9253 - val_loss: 0.1280 - val_accuracy: 0.9561\nEpoch 76/100\n\r 1/15 [=>............................] - ETA: 0s - loss: 0.1335 - accuracy: 0.9688\b\b\b\b\b\b\b\b\b\b\b\b\b\b\b\b\b\b\b\b\b\b\b\b\b\b\b\b\b\b\b\b\b\b\b\b\b\b\b\b\b\b\b\b\b\b\b\b\b\b\b\b\b\b\b\b\b\b\b\b\b\b\b\b\b\b\b\b\b\b\b\b\b\b\b\b\b\b\b\b\b\b\r15/15 [==============================] - 0s 4ms/step - loss: 0.1931 - accuracy: 0.9187 - val_loss: 0.1196 - val_accuracy: 0.9649\nEpoch 77/100\n\r 1/15 [=>............................] - ETA: 0s - loss: 0.1298 - accuracy: 0.9688\b\b\b\b\b\b\b\b\b\b\b\b\b\b\b\b\b\b\b\b\b\b\b\b\b\b\b\b\b\b\b\b\b\b\b\b\b\b\b\b\b\b\b\b\b\b\b\b\b\b\b\b\b\b\b\b\b\b\b\b\b\b\b\b\b\b\b\b\b\b\b\b\b\b\b\b\b\b\b\b\b\b\r15/15 [==============================] - 0s 4ms/step - loss: 0.1881 - accuracy: 0.9275 - val_loss: 0.1034 - val_accuracy: 0.9649\nEpoch 78/100\n\r 1/15 [=>............................] - ETA: 0s - loss: 0.1354 - accuracy: 0.9688\b\b\b\b\b\b\b\b\b\b\b\b\b\b\b\b\b\b\b\b\b\b\b\b\b\b\b\b\b\b\b\b\b\b\b\b\b\b\b\b\b\b\b\b\b\b\b\b\b\b\b\b\b\b\b\b\b\b\b\b\b\b\b\b\b\b\b\b\b\b\b\b\b\b\b\b\b\b\b\b\b\b\r15/15 [==============================] - 0s 4ms/step - loss: 0.1795 - accuracy: 0.9231 - val_loss: 0.1078 - val_accuracy: 0.9474\nEpoch 79/100\n\r 1/15 [=>............................] - ETA: 0s - loss: 0.0914 - accuracy: 0.9688\b\b\b\b\b\b\b\b\b\b\b\b\b\b\b\b\b\b\b\b\b\b\b\b\b\b\b\b\b\b\b\b\b\b\b\b\b\b\b\b\b\b\b\b\b\b\b\b\b\b\b\b\b\b\b\b\b\b\b\b\b\b\b\b\b\b\b\b\b\b\b\b\b\b\b\b\b\b\b\b\b\b\r15/15 [==============================] - 0s 4ms/step - loss: 0.2064 - accuracy: 0.9187 - val_loss: 0.1324 - val_accuracy: 0.9561\nEpoch 80/100\n\r 1/15 [=>............................] - ETA: 0s - loss: 0.1222 - accuracy: 0.9688\b\b\b\b\b\b\b\b\b\b\b\b\b\b\b\b\b\b\b\b\b\b\b\b\b\b\b\b\b\b\b\b\b\b\b\b\b\b\b\b\b\b\b\b\b\b\b\b\b\b\b\b\b\b\b\b\b\b\b\b\b\b\b\b\b\b\b\b\b\b\b\b\b\b\b\b\b\b\b\b\b\b\r15/15 [==============================] - 0s 4ms/step - loss: 0.2045 - accuracy: 0.9319 - val_loss: 0.1180 - val_accuracy: 0.9561\nEpoch 81/100\n\r 1/15 [=>............................] - ETA: 0s - loss: 0.3328 - accuracy: 0.8438\b\b\b\b\b\b\b\b\b\b\b\b\b\b\b\b\b\b\b\b\b\b\b\b\b\b\b\b\b\b\b\b\b\b\b\b\b\b\b\b\b\b\b\b\b\b\b\b\b\b\b\b\b\b\b\b\b\b\b\b\b\b\b\b\b\b\b\b\b\b\b\b\b\b\b\b\b\b\b\b\b\b\r15/15 [==============================] - 0s 17ms/step - loss: 0.1951 - accuracy: 0.9187 - val_loss: 0.1055 - val_accuracy: 0.9474\nEpoch 82/100\n\r 1/15 [=>............................] - ETA: 0s - loss: 0.1169 - accuracy: 0.9688\b\b\b\b\b\b\b\b\b\b\b\b\b\b\b\b\b\b\b\b\b\b\b\b\b\b\b\b\b\b\b\b\b\b\b\b\b\b\b\b\b\b\b\b\b\b\b\b\b\b\b\b\b\b\b\b\b\b\b\b\b\b\b\b\b\b\b\b\b\b\b\b\b\b\b\b\b\b\b\b\b\b\r15/15 [==============================] - 0s 5ms/step - loss: 0.1742 - accuracy: 0.9253 - val_loss: 0.1045 - val_accuracy: 0.9561\nEpoch 83/100\n\r 1/15 [=>............................] - ETA: 0s - loss: 0.1933 - accuracy: 0.9375\b\b\b\b\b\b\b\b\b\b\b\b\b\b\b\b\b\b\b\b\b\b\b\b\b\b\b\b\b\b\b\b\b\b\b\b\b\b\b\b\b\b\b\b\b\b\b\b\b\b\b\b\b\b\b\b\b\b\b\b\b\b\b\b\b\b\b\b\b\b\b\b\b\b\b\b\b\b\b\b\b\b\r15/15 [==============================] - 0s 4ms/step - loss: 0.1876 - accuracy: 0.9209 - val_loss: 0.1287 - val_accuracy: 0.9561\nEpoch 84/100\n\r 1/15 [=>............................] - ETA: 0s - loss: 0.1584 - accuracy: 0.9375\b\b\b\b\b\b\b\b\b\b\b\b\b\b\b\b\b\b\b\b\b\b\b\b\b\b\b\b\b\b\b\b\b\b\b\b\b\b\b\b\b\b\b\b\b\b\b\b\b\b\b\b\b\b\b\b\b\b\b\b\b\b\b\b\b\b\b\b\b\b\b\b\b\b\b\b\b\b\b\b\b\b\r15/15 [==============================] - 0s 5ms/step - loss: 0.2141 - accuracy: 0.9209 - val_loss: 0.1723 - val_accuracy: 0.9561\nEpoch 85/100\n\r 1/15 [=>............................] - ETA: 0s - loss: 0.2063 - accuracy: 0.9062\b\b\b\b\b\b\b\b\b\b\b\b\b\b\b\b\b\b\b\b\b\b\b\b\b\b\b\b\b\b\b\b\b\b\b\b\b\b\b\b\b\b\b\b\b\b\b\b\b\b\b\b\b\b\b\b\b\b\b\b\b\b\b\b\b\b\b\b\b\b\b\b\b\b\b\b\b\b\b\b\b\b\r15/15 [==============================] - 0s 5ms/step - loss: 0.2037 - accuracy: 0.9187 - val_loss: 0.1223 - val_accuracy: 0.9386\nEpoch 86/100\n\r 1/15 [=>............................] - ETA: 0s - loss: 0.1642 - accuracy: 0.9062\b\b\b\b\b\b\b\b\b\b\b\b\b\b\b\b\b\b\b\b\b\b\b\b\b\b\b\b\b\b\b\b\b\b\b\b\b\b\b\b\b\b\b\b\b\b\b\b\b\b\b\b\b\b\b\b\b\b\b\b\b\b\b\b\b\b\b\b\b\b\b\b\b\b\b\b\b\b\b\b\b\b\r15/15 [==============================] - 0s 4ms/step - loss: 0.1768 - accuracy: 0.9275 - val_loss: 0.1044 - val_accuracy: 0.9561\nEpoch 87/100\n\r 1/15 [=>............................] - ETA: 0s - loss: 0.1139 - accuracy: 0.9688\b\b\b\b\b\b\b\b\b\b\b\b\b\b\b\b\b\b\b\b\b\b\b\b\b\b\b\b\b\b\b\b\b\b\b\b\b\b\b\b\b\b\b\b\b\b\b\b\b\b\b\b\b\b\b\b\b\b\b\b\b\b\b\b\b\b\b\b\b\b\b\b\b\b\b\b\b\b\b\b\b\b\r15/15 [==============================] - 0s 4ms/step - loss: 0.1972 - accuracy: 0.9209 - val_loss: 0.1384 - val_accuracy: 0.9298\nEpoch 88/100\n\r 1/15 [=>............................] - ETA: 0s - loss: 0.1730 - accuracy: 0.9375\b\b\b\b\b\b\b\b\b\b\b\b\b\b\b\b\b\b\b\b\b\b\b\b\b\b\b\b\b\b\b\b\b\b\b\b\b\b\b\b\b\b\b\b\b\b\b\b\b\b\b\b\b\b\b\b\b\b\b\b\b\b\b\b\b\b\b\b\b\b\b\b\b\b\b\b\b\b\b\b\b\b\r15/15 [==============================] - 0s 4ms/step - loss: 0.1914 - accuracy: 0.9231 - val_loss: 0.1106 - val_accuracy: 0.9298\nEpoch 89/100\n\r 1/15 [=>............................] - ETA: 0s - loss: 0.2357 - accuracy: 0.8750\b\b\b\b\b\b\b\b\b\b\b\b\b\b\b\b\b\b\b\b\b\b\b\b\b\b\b\b\b\b\b\b\b\b\b\b\b\b\b\b\b\b\b\b\b\b\b\b\b\b\b\b\b\b\b\b\b\b\b\b\b\b\b\b\b\b\b\b\b\b\b\b\b\b\b\b\b\b\b\b\b\b\r15/15 [==============================] - 0s 4ms/step - loss: 0.2176 - accuracy: 0.9077 - val_loss: 0.1094 - val_accuracy: 0.9649\nEpoch 90/100\n\r 1/15 [=>............................] - ETA: 0s - loss: 0.1462 - accuracy: 0.9375\b\b\b\b\b\b\b\b\b\b\b\b\b\b\b\b\b\b\b\b\b\b\b\b\b\b\b\b\b\b\b\b\b\b\b\b\b\b\b\b\b\b\b\b\b\b\b\b\b\b\b\b\b\b\b\b\b\b\b\b\b\b\b\b\b\b\b\b\b\b\b\b\b\b\b\b\b\b\b\b\b\b\r15/15 [==============================] - 0s 4ms/step - loss: 0.1819 - accuracy: 0.9319 - val_loss: 0.1136 - val_accuracy: 0.9474\nEpoch 91/100\n\r 1/15 [=>............................] - ETA: 0s - loss: 0.1933 - accuracy: 0.9688\b\b\b\b\b\b\b\b\b\b\b\b\b\b\b\b\b\b\b\b\b\b\b\b\b\b\b\b\b\b\b\b\b\b\b\b\b\b\b\b\b\b\b\b\b\b\b\b\b\b\b\b\b\b\b\b\b\b\b\b\b\b\b\b\b\b\b\b\b\b\b\b\b\b\b\b\b\b\b\b\b\b\r15/15 [==============================] - 0s 4ms/step - loss: 0.1889 - accuracy: 0.9209 - val_loss: 0.1021 - val_accuracy: 0.9474\nEpoch 92/100\n\r 1/15 [=>............................] - ETA: 0s - loss: 0.2202 - accuracy: 0.9062\b\b\b\b\b\b\b\b\b\b\b\b\b\b\b\b\b\b\b\b\b\b\b\b\b\b\b\b\b\b\b\b\b\b\b\b\b\b\b\b\b\b\b\b\b\b\b\b\b\b\b\b\b\b\b\b\b\b\b\b\b\b\b\b\b\b\b\b\b\b\b\b\b\b\b\b\b\b\b\b\b\b\r15/15 [==============================] - 0s 4ms/step - loss: 0.2277 - accuracy: 0.8879 - val_loss: 0.1101 - val_accuracy: 0.9561\nEpoch 93/100\n\r 1/15 [=>............................] - ETA: 0s - loss: 0.1863 - accuracy: 0.9375\b\b\b\b\b\b\b\b\b\b\b\b\b\b\b\b\b\b\b\b\b\b\b\b\b\b\b\b\b\b\b\b\b\b\b\b\b\b\b\b\b\b\b\b\b\b\b\b\b\b\b\b\b\b\b\b\b\b\b\b\b\b\b\b\b\b\b\b\b\b\b\b\b\b\b\b\b\b\b\b\b\b\r15/15 [==============================] - 0s 4ms/step - loss: 0.2591 - accuracy: 0.9011 - val_loss: 0.1058 - val_accuracy: 0.9561\nEpoch 94/100\n\r 1/15 [=>............................] - ETA: 0s - loss: 0.2232 - accuracy: 0.8750\b\b\b\b\b\b\b\b\b\b\b\b\b\b\b\b\b\b\b\b\b\b\b\b\b\b\b\b\b\b\b\b\b\b\b\b\b\b\b\b\b\b\b\b\b\b\b\b\b\b\b\b\b\b\b\b\b\b\b\b\b\b\b\b\b\b\b\b\b\b\b\b\b\b\b\b\b\b\b\b\b\b\r15/15 [==============================] - 0s 5ms/step - loss: 0.2075 - accuracy: 0.9165 - val_loss: 0.1110 - val_accuracy: 0.9561\nEpoch 95/100\n\r 1/15 [=>............................] - ETA: 0s - loss: 0.2323 - accuracy: 0.9062\b\b\b\b\b\b\b\b\b\b\b\b\b\b\b\b\b\b\b\b\b\b\b\b\b\b\b\b\b\b\b\b\b\b\b\b\b\b\b\b\b\b\b\b\b\b\b\b\b\b\b\b\b\b\b\b\b\b\b\b\b\b\b\b\b\b\b\b\b\b\b\b\b\b\b\b\b\b\b\b\b\b\r15/15 [==============================] - 0s 4ms/step - loss: 0.2019 - accuracy: 0.9121 - val_loss: 0.1214 - val_accuracy: 0.9649\nEpoch 96/100\n\r 1/15 [=>............................] - ETA: 0s - loss: 0.2122 - accuracy: 0.8438\b\b\b\b\b\b\b\b\b\b\b\b\b\b\b\b\b\b\b\b\b\b\b\b\b\b\b\b\b\b\b\b\b\b\b\b\b\b\b\b\b\b\b\b\b\b\b\b\b\b\b\b\b\b\b\b\b\b\b\b\b\b\b\b\b\b\b\b\b\b\b\b\b\b\b\b\b\b\b\b\b\b\r15/15 [==============================] - 0s 4ms/step - loss: 0.1850 - accuracy: 0.9209 - val_loss: 0.1221 - val_accuracy: 0.9298\nEpoch 97/100\n\r 1/15 [=>............................] - ETA: 0s - loss: 0.0540 - accuracy: 1.0000\b\b\b\b\b\b\b\b\b\b\b\b\b\b\b\b\b\b\b\b\b\b\b\b\b\b\b\b\b\b\b\b\b\b\b\b\b\b\b\b\b\b\b\b\b\b\b\b\b\b\b\b\b\b\b\b\b\b\b\b\b\b\b\b\b\b\b\b\b\b\b\b\b\b\b\b\b\b\b\b\b\b\r15/15 [==============================] - 0s 4ms/step - loss: 0.2278 - accuracy: 0.9077 - val_loss: 0.1120 - val_accuracy: 0.9474\nEpoch 98/100\n\r 1/15 [=>............................] - ETA: 0s - loss: 0.2955 - accuracy: 0.9062\b\b\b\b\b\b\b\b\b\b\b\b\b\b\b\b\b\b\b\b\b\b\b\b\b\b\b\b\b\b\b\b\b\b\b\b\b\b\b\b\b\b\b\b\b\b\b\b\b\b\b\b\b\b\b\b\b\b\b\b\b\b\b\b\b\b\b\b\b\b\b\b\b\b\b\b\b\b\b\b\b\b\r15/15 [==============================] - 0s 4ms/step - loss: 0.2213 - accuracy: 0.9253 - val_loss: 0.1214 - val_accuracy: 0.9561\nEpoch 99/100\n\r 1/15 [=>............................] - ETA: 0s - loss: 0.2258 - accuracy: 0.8750\b\b\b\b\b\b\b\b\b\b\b\b\b\b\b\b\b\b\b\b\b\b\b\b\b\b\b\b\b\b\b\b\b\b\b\b\b\b\b\b\b\b\b\b\b\b\b\b\b\b\b\b\b\b\b\b\b\b\b\b\b\b\b\b\b\b\b\b\b\b\b\b\b\b\b\b\b\b\b\b\b\b\r15/15 [==============================] - 0s 4ms/step - loss: 0.2205 - accuracy: 0.9121 - val_loss: 0.1198 - val_accuracy: 0.9649\nEpoch 100/100\n\r 1/15 [=>............................] - ETA: 0s - loss: 0.1818 - accuracy: 0.9375\b\b\b\b\b\b\b\b\b\b\b\b\b\b\b\b\b\b\b\b\b\b\b\b\b\b\b\b\b\b\b\b\b\b\b\b\b\b\b\b\b\b\b\b\b\b\b\b\b\b\b\b\b\b\b\b\b\b\b\b\b\b\b\b\b\b\b\b\b\b\b\b\b\b\b\b\b\b\b\b\b\b\r15/15 [==============================] - 0s 4ms/step - loss: 0.2103 - accuracy: 0.9231 - val_loss: 0.1009 - val_accuracy: 0.9825\nINFO:tensorflow:Assets written to: /local_disk0/repl_tmp_data/ReplId-f8e4d-ff24e-2e734/tmpo1_l509m/model/data/model/assets\n"
     ]
    },
    {
     "output_type": "stream",
     "name": "stderr",
     "output_type": "stream",
     "text": [
      "INFO:tensorflow:Assets written to: /local_disk0/repl_tmp_data/ReplId-f8e4d-ff24e-2e734/tmpo1_l509m/model/data/model/assets\n"
     ]
    },
    {
     "output_type": "display_data",
     "data": {
      "application/vnd.jupyter.widget-view+json": {
       "model_id": "d5ca4be1a9844379aabc6e61a874e957",
       "version_major": 2,
       "version_minor": 0
      },
      "text/plain": [
       "Uploading artifacts:   0%|          | 0/11 [00:00<?, ?it/s]"
      ]
     },
     "metadata": {},
     "output_type": "display_data"
    },
    {
     "output_type": "display_data",
     "data": {
      "application/vnd.jupyter.widget-view+json": {
       "model_id": "a878550b0c354ddda349c0a1aa4c0e3f",
       "version_major": 2,
       "version_minor": 0
      },
      "text/plain": [
       "Uploading artifacts:   0%|          | 0/2 [00:00<?, ?it/s]"
      ]
     },
     "metadata": {},
     "output_type": "display_data"
    }
   ],
   "source": [
    "results = model_0.fit(x=X_train, \n",
    "                      y=y_train,\n",
    "                      epochs=100, \n",
    "                      batch_size=32,\n",
    "                      shuffle=True,\n",
    "                      verbose=1,\n",
    "                      validation_data=(X_test, y_test))"
   ]
  },
  {
   "cell_type": "code",
   "execution_count": 0,
   "metadata": {
    "application/vnd.databricks.v1+cell": {
     "cellMetadata": {
      "byteLimit": 2048000,
      "rowLimit": 10000
     },
     "inputWidgets": {},
     "nuid": "1d33d4dd-5811-460a-8f80-d8b93beaa79f",
     "showTitle": false,
     "title": ""
    }
   },
   "outputs": [
    {
     "output_type": "stream",
     "name": "stdout",
     "output_type": "stream",
     "text": [
      "\r1/4 [======>.......................] - ETA: 0s\b\b\b\b\b\b\b\b\b\b\b\b\b\b\b\b\b\b\b\b\b\b\b\b\b\b\b\b\b\b\b\b\b\b\b\b\b\b\b\b\b\b\b\b\b\b\r4/4 [==============================] - 0s 2ms/step\n"
     ]
    },
    {
     "output_type": "execute_result",
     "data": {
      "text/plain": [
       "<Axes: >"
      ]
     },
     "execution_count": 323,
     "metadata": {},
     "output_type": "execute_result"
    },
    {
     "output_type": "display_data",
     "data": {
      "image/png": "[encoded data removed]",
      "text/plain": [
       "<Figure size 640x480 with 2 Axes>"
      ]
     },
     "metadata": {},
     "output_type": "display_data"
    }
   ],
   "source": [
    "y_pred = model_0.predict(X_test)\n",
    "y_pred = (y_pred > 0.5)\n",
    "\n",
    "from sklearn.metrics import confusion_matrix\n",
    "cm = confusion_matrix(y_test, y_pred)\n",
    "\n",
    "sns.heatmap(cm, annot=True)"
   ]
  }
 ],
 "metadata": {
  "application/vnd.databricks.v1+notebook": {
   "dashboards": [],
   "language": "python",
   "notebookMetadata": {
    "pythonIndentUnit": 4
   },
   "notebookName": "Breast Cancer Diagnosis",
   "widgets": {}
  }
 },
 "nbformat": 4,
 "nbformat_minor": 0
}
